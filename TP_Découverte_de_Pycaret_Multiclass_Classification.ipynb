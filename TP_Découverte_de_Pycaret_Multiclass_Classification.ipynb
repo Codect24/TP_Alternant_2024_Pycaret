{
  "cells": [
    {
      "cell_type": "markdown",
      "id": "81e0620e",
      "metadata": {
        "id": "81e0620e"
      },
      "source": [
        "# 👋 Tutoriel de Classification Multiclasse avec PyCaret\n",
        "\n",
        "PyCaret est une bibliothèque open-source de machine learning en Python avec peu de code, qui automatise les workflows de machine learning. C'est un outil de gestion de modèles et de machine learning de bout en bout qui accélère exponentiellement le cycle d'expérimentation et vous rend plus productif.\n",
        "\n",
        "Comparé aux autres bibliothèques de machine learning open-source, PyCaret est une bibliothèque alternative avec peu de code qui peut remplacer des centaines de lignes de code par seulement quelques lignes. Cela rend les expériences exponentiellement rapides et efficaces. PyCaret est essentiellement un wrapper Python autour de plusieurs bibliothèques et frameworks de machine learning, tels que scikit-learn, XGBoost, LightGBM, CatBoost, spaCy, Optuna, Hyperopt, Ray, et quelques autres.\n",
        "\n",
        "Le design et la simplicité de PyCaret sont inspirés par le rôle émergent des data scientists citoyens, un terme utilisé pour la première fois par Gartner. Les data scientists citoyens sont des utilisateurs expérimentés capables de réaliser des tâches analytiques simples et modérément sophistiquées qui nécessitaient auparavant une expertise technique plus pointue.\n"
      ]
    },
    {
      "cell_type": "markdown",
      "id": "rplUWhnbv1VQ",
      "metadata": {
        "id": "rplUWhnbv1VQ"
      },
      "source": [
        "# Partie I : Découverte 🧭"
      ]
    },
    {
      "cell_type": "markdown",
      "id": "8116e19d",
      "metadata": {
        "id": "8116e19d"
      },
      "source": [
        "# 💻 Installation\n",
        "\n",
        "Vous pouvez installer PyCaret avec le gestionnaire de paquets pip de Python :\n",
        "\n",
        "`pip install pycaret`\n",
        "\n",
        "L'installation par défaut de PyCaret n'installera pas automatiquement toutes les dépendances supplémentaires. Pour cela, vous devrez installer la version complète (C'est long, prennez le temps de le faire une fois, le tutoriel va evoqué une bonne partie des solutions.):\n",
        "\n",
        "`pip install pycaret[full]`\n",
        "\n",
        "ou selon votre cas d'utilisation, vous pouvez installer l'une des variantes suivantes (pratique quand on veut faire des taches spécifiques):\n",
        "\n",
        "- `pip install pycaret[analysis]`\n",
        "- `pip install pycaret[models]`\n",
        "- `pip install pycaret[tuner]`\n",
        "- `pip install pycaret[mlops]`\n",
        "- `pip install pycaret[parallel]`\n",
        "- `pip install pycaret[test]`"
      ]
    },
    {
      "cell_type": "code",
      "execution_count": null,
      "id": "d7142a33",
      "metadata": {
        "id": "d7142a33"
      },
      "outputs": [],
      "source": [
        "%pip install pycaret[full] --quiet"
      ]
    },
    {
      "cell_type": "code",
      "execution_count": null,
      "id": "ff76d390",
      "metadata": {},
      "outputs": [],
      "source": [
        "# check installed version\n",
        "import pycaret\n",
        "pycaret.__version__"
      ]
    },
    {
      "cell_type": "markdown",
      "id": "fb66e98d",
      "metadata": {
        "id": "fb66e98d"
      },
      "source": [
        "# 🚀 C'est parti !"
      ]
    },
    {
      "cell_type": "markdown",
      "id": "e277b3b4",
      "metadata": {
        "id": "e277b3b4"
      },
      "source": [
        "### 📚 Documentation et Aide\n",
        "\n",
        "N'hésitez pas à consulter la [documentation officielle de PyCaret](https://pycaret.gitbook.io/docs/get-started/quickstart) et la [documentation API](https://pycaret.readthedocs.io/en/latest/api/classification.html#module-pycaret.classification) pour une liste complète des paramètres disponibles et des exemples d'utilisation.\n"
      ]
    },
    {
      "cell_type": "markdown",
      "id": "00347d44",
      "metadata": {
        "id": "00347d44"
      },
      "source": [
        "Mise en place de l'environnement\n",
        "Assurons-nous d'avoir toutes les dépendances nécessaires pour ce TP. Nous allons utiliser un dataset pour notre démonstration. Dans ce cas, nous allons utiliser le célèbre dataset 'Iris' (oui, celui avec les fleurs 🌸). Pourquoi ? Parce qu'on le connaît tous, il est léger et facile à comprendre !"
      ]
    },
    {
      "cell_type": "code",
      "execution_count": null,
      "id": "956dfdab",
      "metadata": {
        "id": "956dfdab"
      },
      "outputs": [],
      "source": [
        "# Importation des librairies nécessaires\n",
        "import pandas as pd\n",
        "from pycaret.datasets import get_data\n",
        "\n",
        "# Chargement du dataset Iris\n",
        "data = get_data('iris')"
      ]
    },
    {
      "cell_type": "markdown",
      "id": "065a59cf",
      "metadata": {
        "id": "065a59cf"
      },
      "source": [
        "## 🧐 Pour ceux qui ne se souviennent pas du dataset Iris - Facultatif\n",
        "Pas de problème, nous avons une solution pour vous ! Historiquement, PyCaret proposait de l'EDA (Exploratory Data Analysis) intégrée, mais cette fonctionnalité a disparu en version 3 😭. Ne vous inquiétez pas, nous allons utiliser les bonnes vieilles méthodes pour visualiser nos données en attendant que cette fonctionnalité revienne.\n",
        "Pour cela, nous allons créer une visualisation 2D et 3D de nos données avec UMAP."
      ]
    },
    {
      "cell_type": "code",
      "execution_count": null,
      "id": "a5185ebf",
      "metadata": {
        "id": "a5185ebf"
      },
      "outputs": [],
      "source": [
        "%pip install umap-learn matplotlib seaborn plotly --quiet"
      ]
    },
    {
      "cell_type": "code",
      "execution_count": null,
      "id": "89af5a6f",
      "metadata": {
        "id": "89af5a6f"
      },
      "outputs": [],
      "source": [
        "import umap\n",
        "import matplotlib.pyplot as plt\n",
        "import seaborn as sns\n",
        "\n",
        "# Préparation des données pour UMAP\n",
        "X = data.drop(columns=['species'])\n",
        "y = data['species']\n",
        "\n",
        "# Réduction de dimensionnalité avec UMAP\n",
        "reducer = umap.UMAP()\n",
        "X_embedded = reducer.fit_transform(X)\n",
        "\n",
        "# Création du DataFrame pour la visualisation\n",
        "embedding = pd.DataFrame(X_embedded, columns=['UMAP1', 'UMAP2'])\n",
        "embedding['species'] = y\n",
        "\n",
        "# Visualisation 2D\n",
        "plt.figure(figsize=(10, 6))\n",
        "sns.scatterplot(data=embedding, x='UMAP1', y='UMAP2', hue='species', palette='viridis', s=100)\n",
        "plt.title('Visualisation 2D des données Iris avec UMAP')\n",
        "plt.show()"
      ]
    },
    {
      "cell_type": "markdown",
      "id": "5cb63ac8",
      "metadata": {
        "id": "5cb63ac8"
      },
      "source": [
        "### Visualisation 3D avec UMAP\n",
        "Pour ceux qui aiment les graphiques en 3D et interactifs"
      ]
    },
    {
      "cell_type": "code",
      "execution_count": null,
      "id": "b5b26900",
      "metadata": {
        "id": "b5b26900"
      },
      "outputs": [],
      "source": [
        "import umap\n",
        "import plotly.express as px\n",
        "\n",
        "# Réduction de dimensionnalité en 3D avec UMAP\n",
        "reducer = umap.UMAP(n_components=3)\n",
        "X_embedded_3d = reducer.fit_transform(X)\n",
        "\n",
        "# Création du DataFrame pour la visualisation\n",
        "embedding_3d = pd.DataFrame(X_embedded_3d, columns=['UMAP1', 'UMAP2', 'UMAP3'])\n",
        "embedding_3d['species'] = y\n",
        "\n",
        "# Visualisation 3D\n",
        "fig = px.scatter_3d(embedding_3d, x='UMAP1', y='UMAP2', z='UMAP3', color='species', title='Visualisation 3D des données Iris avec UMAP')\n",
        "fig.show()\n"
      ]
    },
    {
      "cell_type": "markdown",
      "id": "c00f6a4a",
      "metadata": {
        "id": "c00f6a4a"
      },
      "source": [
        "## 📊 Préparation des données\n",
        "PyCaret simplifie cette étape avec quelques commandes simples. Nous allons d'abord voir comment initialiser l'environnement de classification avec la fonction setup."
      ]
    },
    {
      "cell_type": "code",
      "execution_count": null,
      "id": "97f2c6c6",
      "metadata": {
        "id": "97f2c6c6"
      },
      "outputs": [],
      "source": [
        "# Importation des modules nécessaires\n",
        "from pycaret.classification import *\n",
        "\n",
        "# Initialisation de l'environnement de classification\n",
        "clf = setup(data, target='species', session_id=42)"
      ]
    },
    {
      "cell_type": "markdown",
      "id": "8iboPoNS4Rb4",
      "metadata": {
        "id": "8iboPoNS4Rb4"
      },
      "source": [
        "> 🔍 **Question : Quel est le rôle de la fonction setup() dans PyCaret? Quelle information essentielle devez-vous fournir à cette fonction pour une classification multiclass?**\n",
        "\n"
      ]
    },
    {
      "cell_type": "markdown",
      "id": "3c583864",
      "metadata": {
        "id": "3c583864"
      },
      "source": [
        "### 📋 Informations affichées par `setup`\n",
        "\n",
        "Une fois la configuration réussie, PyCaret affiche une grille d'informations contenant des détails sur l'expérimentation :\n",
        "\n",
        "- **Session id** : Un nombre pseudo-aléatoire utilisé comme \"seed\" pour toutes les fonctions afin de garantir la reproductibilité. Si aucun `session_id` n'est fourni, un nombre aléatoire est automatiquement généré et distribué à toutes les fonctions. Mais bon, pourquoi ne pas mettre `42`...\n",
        "- **Target type** : Type de la variable cible (binaire, multiclasses ou régression). Le type de la cible est automatiquement détecté.\n",
        "- **Label Encoding** : Lorsque la variable cible est de type chaîne (par exemple, 'Oui' ou 'Non') au lieu de 1 ou 0, PyCaret encode automatiquement les étiquettes en 1 et 0 et affiche le mappage (0 : Non, 1 : Oui) pour référence.\n",
        "- **Original data shape** : Forme des données originales avant toute transformation.\n",
        "- **Transformed train set shape** : Forme du jeu d'entraînement transformé. C'est important de faire attention, en cas d'un OneHot Encoder ou un feature selection !\n",
        "- **Transformed test set shape** : Forme du jeu de test transformé.\n",
        "- **Numeric features** : Nombre de caractéristiques considérées comme numériques.\n",
        "- **Categorical features** : Nombre de caractéristiques considérées comme catégorielles.\n"
      ]
    },
    {
      "cell_type": "markdown",
      "id": "0486a112",
      "metadata": {
        "id": "0486a112"
      },
      "source": [
        "### Accéder aux variables de configuration\n",
        "\n",
        "Pour accéder à toutes les variables créées par la fonction `setup` telles que le dataset transformé, le `random_state`, etc., vous pouvez utiliser la méthode `get_config`.\n",
        "\n",
        "#### Exemple d'utilisation de `get_config`"
      ]
    },
    {
      "cell_type": "code",
      "execution_count": null,
      "id": "08dcf654",
      "metadata": {
        "id": "08dcf654"
      },
      "outputs": [],
      "source": [
        "# Vérifier toutes les configurations disponibles\n",
        "get_config()"
      ]
    },
    {
      "cell_type": "code",
      "execution_count": null,
      "id": "771f7b4a",
      "metadata": {
        "id": "771f7b4a"
      },
      "outputs": [],
      "source": [
        "# Accéder à la variable X_train_transformed\n",
        "X_train_transformed = get_config('X_train_transformed')"
      ]
    },
    {
      "cell_type": "markdown",
      "id": "e261ba7e",
      "metadata": {
        "id": "e261ba7e"
      },
      "source": [
        "Vous pouvez également obtenir de l'aide sur la fonction setup en utilisant :"
      ]
    },
    {
      "cell_type": "code",
      "execution_count": null,
      "id": "aaa992bb",
      "metadata": {
        "id": "aaa992bb"
      },
      "outputs": [],
      "source": [
        "help(setup)"
      ]
    },
    {
      "cell_type": "markdown",
      "id": "aa22ce43",
      "metadata": {
        "id": "aa22ce43"
      },
      "source": [
        "### Comparaison Avant/Après avec une ACP en 2D\n",
        "Il est possible de comparer les données avant et après transformation grâce à get_config. Voici comment le faire avec une ACP en 2D."
      ]
    },
    {
      "cell_type": "code",
      "execution_count": null,
      "id": "d2e384cd",
      "metadata": {
        "id": "d2e384cd"
      },
      "outputs": [],
      "source": [
        "from sklearn.decomposition import PCA\n",
        "\n",
        "# Accéder aux données transformées\n",
        "X_train_transformed = get_config('X_train_transformed')\n",
        "y_train = get_config('y_train_transformed').reset_index(drop=True)  # Réinitialiser les index pour s'assurer qu'ils correspondent\n",
        "\n",
        "# Utiliser le même réducteur PCA pour les deux visualisations\n",
        "pca = PCA(n_components=2)\n",
        "\n",
        "# Visualisation avant transformation\n",
        "X = data.drop(columns=['species'])\n",
        "y = data['species']\n",
        "X_pca = pca.fit_transform(X)\n",
        "\n",
        "plt.figure(figsize=(10, 6))\n",
        "sns.scatterplot(x=X_pca[:,0], y=X_pca[:,1], hue=y, palette='viridis')\n",
        "plt.title('Visualisation PCA 2D - Avant Transformation')\n",
        "plt.show()\n",
        "\n",
        "# Visualisation après transformation\n",
        "X_pca_transformed = pca.fit_transform(X_train_transformed)\n",
        "\n",
        "plt.figure(figsize=(10, 6))\n",
        "sns.scatterplot(x=X_pca_transformed[:,0], y=X_pca_transformed[:,1], hue=y_train, palette='viridis')\n",
        "plt.title('Visualisation PCA 2D - Après Transformation')\n",
        "plt.show()"
      ]
    },
    {
      "cell_type": "markdown",
      "id": "5aa2cf16",
      "metadata": {
        "id": "5aa2cf16"
      },
      "source": [
        "## 📊 Préparation des données avec PyCaret\n",
        "\n",
        "Comme vous le savez, la préparation des données est une étape cruciale. PyCaret simplifie (beaucoup) ce processus avec des paramètres faciles à utiliser, vous permettant de traiter les valeurs manquantes, encoder les variables catégorielles, équilibrer les classes cibles, et bien plus encore. Voici un aperçu des possibilités :\n",
        "Avant de plonger dans les exemples spécifiques, notez que chaque configuration de `setup` inclut un `experiment_name` et des `experiment_custom_tags`. L'`experiment_name` est un identifiant unique pour chaque expérience, ce qui permet de suivre et de gérer vos expérimentations de manière plus organisée. Les `experiment_custom_tags` sont des annotations que vous pouvez utiliser pour décrire les paramètres spécifiques ou les transformations appliquées dans chaque configuration. Nous expliquerons comment utiliser ces éléments pour améliorer votre flux de travail à la fin de cette section.\n",
        "\n",
        "### 🛠️ Prétraitement des données\n",
        "\n",
        "#### Valeurs manquantes\n",
        "\n",
        "PyCaret peut gérer automatiquement les valeurs manquantes avec différentes stratégies d'imputation :\n",
        "- **Simple imputation** : Remplace les valeurs manquantes par la moyenne (pour les variables numériques) ou la modalité (pour les variables catégorielles).\n",
        "- **Iterative imputation** : Utilise des modèles de machine learning pour imputer les valeurs manquantes.\n"
      ]
    },
    {
      "cell_type": "code",
      "execution_count": null,
      "id": "341b7b54",
      "metadata": {
        "id": "341b7b54"
      },
      "outputs": [],
      "source": [
        "clf = setup(data, target='species', session_id=42,\n",
        "            imputation_type='simple',  # Simple imputation\n",
        "\n",
        "            # Ce qui suit est pour plus tard ;)\n",
        "            log_experiment=True,\n",
        "            experiment_name='missing_values',\n",
        "            experiment_custom_tags={'imputation': 'simple'})"
      ]
    },
    {
      "cell_type": "markdown",
      "id": "059f57ad",
      "metadata": {
        "id": "059f57ad"
      },
      "source": [
        "#### Types de données\n",
        "\n",
        "PyCaret détecte automatiquement les types de données, mais vous pouvez également les spécifier manuellement :\n",
        "- **Détection automatique** : Utilise des heuristiques pour détecter les types de données.\n",
        "- **Spécification manuelle** : Permet de forcer les types de données."
      ]
    },
    {
      "cell_type": "code",
      "execution_count": null,
      "id": "ec836c3e",
      "metadata": {
        "id": "ec836c3e"
      },
      "outputs": [],
      "source": [
        "clf = setup(data, target='species', session_id=42,\n",
        "            categorical_features=['sepal_length', 'sepal_width'],\n",
        "\n",
        "            # Ce qui suit est pour plus tard ;)\n",
        "            log_experiment=True,\n",
        "            experiment_name='data_types',\n",
        "            experiment_custom_tags={'categorical_features': 'specified'})"
      ]
    },
    {
      "cell_type": "markdown",
      "id": "10e6d265",
      "metadata": {
        "id": "10e6d265"
      },
      "source": [
        "#### Déséquilibre des classes\n",
        "\n",
        "Pour gérer les déséquilibres dans les classes cibles, vous pouvez utiliser le paramètre `fix_imbalance` :\n",
        "- **SMOTE (Synthetic Minority Over-sampling Technique)** : Génère des échantillons synthétiques pour les classes minoritaires.\n"
      ]
    },
    {
      "cell_type": "code",
      "execution_count": null,
      "id": "b21ca4f6",
      "metadata": {
        "id": "b21ca4f6"
      },
      "outputs": [],
      "source": [
        "clf = setup(data, target='species', session_id=42,\n",
        "            fix_imbalance=True,\n",
        "\n",
        "            # Ce qui suit est pour plus tard ;)\n",
        "            log_experiment=True,\n",
        "            experiment_name='target_imbalance',\n",
        "            experiment_custom_tags={'imbalance': 'fixed'})"
      ]
    },
    {
      "cell_type": "markdown",
      "id": "15a2933b",
      "metadata": {
        "id": "15a2933b"
      },
      "source": [
        "#### Suppression des valeurs aberrantes\n",
        "\n",
        "PyCaret peut également supprimer automatiquement les valeurs aberrantes des données :\n",
        "- **Isolation Forest** : Algorithme utilisé pour détecter et supprimer les valeurs aberrantes."
      ]
    },
    {
      "cell_type": "code",
      "execution_count": null,
      "id": "d2274c84",
      "metadata": {
        "id": "d2274c84"
      },
      "outputs": [],
      "source": [
        "clf = setup(data, target='species', session_id=42,\n",
        "            remove_outliers=True,\n",
        "\n",
        "            # Ce qui suit est pour plus tard ;)\n",
        "            log_experiment=True,\n",
        "            experiment_name='remove_outliers',\n",
        "            experiment_custom_tags={'outliers': 'removed'})"
      ]
    },
    {
      "cell_type": "markdown",
      "id": "db5cb9b5",
      "metadata": {
        "id": "db5cb9b5"
      },
      "source": [
        "### 📏 Scalers\n",
        "\n",
        "Les scalers sont utilisés pour normaliser ou standardiser les données :\n",
        "- **Z-Score** : Normalise les données pour avoir une moyenne de 0 et un écart-type de 1.\n",
        "- **Min-Max Scaling** : Normalise les données pour qu'elles se situent entre 0 et 1.\n",
        "- **MaxAbs Scaling** : Scales les données en utilisant la valeur maximale absolue de chaque caractéristique.\n",
        "- **Robust Scaling** : Utilise des statistiques robustes (comme la médiane et l'IQR) pour réduire l'influence des valeurs aberrantes.\n"
      ]
    },
    {
      "cell_type": "code",
      "execution_count": null,
      "id": "d5a8d538",
      "metadata": {
        "id": "d5a8d538"
      },
      "outputs": [],
      "source": [
        "clf = setup(data, target='species', session_id=42,\n",
        "            normalize=True,\n",
        "            normalize_method='zscore',  # Options: 'zscore', 'minmax', 'maxabs', 'robust'\n",
        "\n",
        "            # Ce qui suit est pour plus tard ;)\n",
        "            log_experiment=True,\n",
        "            experiment_name='scalers',\n",
        "            experiment_custom_tags={'scaling_method': 'zscore'})"
      ]
    },
    {
      "cell_type": "markdown",
      "id": "997b4eaa",
      "metadata": {
        "id": "997b4eaa"
      },
      "source": [
        "### 🔧 Feature Engineering\n",
        "\n",
        "Le feature engineering permet de créer de nouvelles caractéristiques à partir de celles existantes.\n",
        "\n",
        "#### Polynômes et interactions\n",
        "\n",
        "Vous pouvez créer des caractéristiques polynomiales et des interactions :\n",
        "- **Polynomial Features** : Génère des caractéristiques polynomiales jusqu'à un degré spécifié.\n",
        "- **Interactions** : Crée des caractéristiques qui sont des produits de paires de caractéristiques originales.\n"
      ]
    },
    {
      "cell_type": "code",
      "execution_count": null,
      "id": "209fc044",
      "metadata": {
        "id": "209fc044"
      },
      "outputs": [],
      "source": [
        "clf = setup(data, target='species', session_id=42,\n",
        "            polynomial_features=True,\n",
        "            polynomial_degree=2,\n",
        "\n",
        "            # Ce qui suit est pour plus tard ;)\n",
        "            log_experiment=True,\n",
        "            experiment_name='polynomial_features',\n",
        "            experiment_custom_tags={'polynomial_degree': 2})"
      ]
    },
    {
      "cell_type": "markdown",
      "id": "cffbf19a",
      "metadata": {
        "id": "cffbf19a"
      },
      "source": [
        "#### Regroupement des caractéristiques\n",
        "\n",
        "Regroupez les caractéristiques pour des analyses plus spécifiques :\n",
        "- **Group Features** : Permet de combiner plusieurs caractéristiques en une seule."
      ]
    },
    {
      "cell_type": "code",
      "execution_count": null,
      "id": "41a47b0e",
      "metadata": {
        "id": "41a47b0e"
      },
      "outputs": [],
      "source": [
        "clf = setup(data, target='species', session_id=42,\n",
        "            group_features={'sepal_features': ['sepal_length', 'sepal_width']},\n",
        "\n",
        "            # Ce qui suit est pour plus tard ;)\n",
        "            log_experiment=True,\n",
        "            experiment_name='group_features',\n",
        "            experiment_custom_tags={'group_features': 'sepal_length_sepal_width'})"
      ]
    },
    {
      "cell_type": "markdown",
      "id": "23782159",
      "metadata": {
        "id": "23782159"
      },
      "source": [
        "### 🏷️ Sélection de caractéristiques\n",
        "\n",
        "La sélection de caractéristiques permet d'identifier et de conserver les caractéristiques les plus importantes :\n",
        "- **Recursive Feature Elimination (RFE)** : Algorithme pour sélectionner les caractéristiques les plus importantes en supprimant progressivement les moins importantes."
      ]
    },
    {
      "cell_type": "code",
      "execution_count": null,
      "id": "0532aa53",
      "metadata": {
        "id": "0532aa53"
      },
      "outputs": [],
      "source": [
        "clf = setup(data, target='species', session_id=42,\n",
        "            feature_selection=True,\n",
        "            n_features_to_select=0.5,\n",
        "\n",
        "            # Ce qui suit est pour plus tard ;)\n",
        "            log_experiment=True,\n",
        "            experiment_name='feature_selection',\n",
        "            experiment_custom_tags={'n_features_to_select': 0.5})"
      ]
    },
    {
      "cell_type": "markdown",
      "id": "27696a8b",
      "metadata": {
        "id": "27696a8b"
      },
      "source": [
        "### 🔍 Suppression de la multicolinéarité\n",
        "\n",
        "Pour gérer la multicolinéarité entre les caractéristiques, vous pouvez utiliser ce paramètre :\n",
        "- **Variance Inflation Factor (VIF)** : Mesure la quantité de multicolinéarité dans un ensemble de variables de régression."
      ]
    },
    {
      "cell_type": "code",
      "execution_count": null,
      "id": "a51f06c9",
      "metadata": {
        "id": "a51f06c9"
      },
      "outputs": [],
      "source": [
        "clf = setup(data, target='species', session_id=42,\n",
        "            remove_multicollinearity=True,\n",
        "            multicollinearity_threshold=0.9,\n",
        "\n",
        "            # Ce qui suit est pour plus tard ;)\n",
        "            log_experiment=True,\n",
        "            experiment_name='remove_multicollinearity',\n",
        "            experiment_custom_tags={'multicollinearity_threshold': 0.9})"
      ]
    },
    {
      "cell_type": "markdown",
      "id": "448d1300",
      "metadata": {
        "id": "448d1300"
      },
      "source": [
        "### 🧙‍♂️ Exemple complet\n",
        "\n",
        "Voici un exemple complet intégrant plusieurs de ces options :"
      ]
    },
    {
      "cell_type": "code",
      "execution_count": null,
      "id": "b6958342",
      "metadata": {
        "id": "b6958342"
      },
      "outputs": [],
      "source": [
        "clf = setup(data, target='species', session_id=42,\n",
        "            imputation_type='simple',  # Simple imputation\n",
        "            normalize=True,  # Normalisation\n",
        "            normalize_method='zscore',  # Méthode de normalisation\n",
        "            polynomial_features=True,  # Création de caractéristiques polynomiales\n",
        "            polynomial_degree=2,  # Degré des caractéristiques polynomiales\n",
        "            group_features={'sepal_features': ['sepal_length', 'sepal_width']},  # Regroupement des caractéristiques\n",
        "            feature_selection=True,  # Sélection des caractéristiques\n",
        "            n_features_to_select=0.5,  # Seuil de sélection\n",
        "            remove_multicollinearity=True,  # Suppression de la multicolinéarité\n",
        "            multicollinearity_threshold=0.9,  # Seuil de multicolinéarité\n",
        "            fix_imbalance=True,  # Gestion du déséquilibre des classes\n",
        "            remove_outliers=True,  # Suppression des valeurs aberrantes\n",
        "\n",
        "            # Ce qui suit est pour plus tard ;)\n",
        "            log_experiment=True,\n",
        "            experiment_name='full_setup',\n",
        "            experiment_custom_tags={\n",
        "                'imputation': 'simple',\n",
        "                'normalize_method': 'zscore',\n",
        "                'polynomial_degree': 2,\n",
        "                'group_features': 'sepal_length_sepal_width',\n",
        "                'n_features_to_select': 0.5,\n",
        "                'multicollinearity_threshold': 0.9,\n",
        "                'imbalance': 'fixed',\n",
        "                'outliers': 'removed'\n",
        "            })\n"
      ]
    },
    {
      "cell_type": "markdown",
      "id": "f01c204b",
      "metadata": {
        "id": "f01c204b"
      },
      "source": [
        "## Customisation de la Pipeline PyCaret avec des Transformations Spécifiques\n",
        "\n",
        "C'est bien beau d'utiliser PyCaret avec ses fonctionnalités intégrées, mais comment faire si on a une super idée qui nous vient en tête pour la préparation et qui permettra d'obtenir des résultats bien meilleurs ? 🤔\n",
        "\n",
        "Prenons l'exemple du dataset Iris. Nous voulons ajouter une transformation personnalisée pour créer une nouvelle fonctionnalité basée sur le rapport entre la longueur et la largeur des pétales. Voici comment procéder :\n",
        "\n",
        "### 1. Création d'une Transformation Personnalisée\n",
        "\n",
        "D'abord, nous définissons notre propre transformateur scikit-learn :\n"
      ]
    },
    {
      "cell_type": "code",
      "execution_count": null,
      "id": "c48aed3f",
      "metadata": {
        "id": "c48aed3f"
      },
      "outputs": [],
      "source": [
        "from sklearn.base import BaseEstimator, TransformerMixin\n",
        "\n",
        "class PetalRatio(BaseEstimator, TransformerMixin):\n",
        "    def __init__(self):\n",
        "        pass\n",
        "\n",
        "    def fit(self, X, y=None):\n",
        "        return self\n",
        "\n",
        "    def transform(self, X):\n",
        "        X['petal_ratio'] = X['petal_length'] / X['petal_width']\n",
        "        return X"
      ]
    },
    {
      "cell_type": "code",
      "execution_count": null,
      "id": "2acb4944",
      "metadata": {
        "id": "2acb4944"
      },
      "outputs": [],
      "source": [
        "# Création du transformateur personnalisé\n",
        "petal_ratio_transformer = PetalRatio()\n",
        "\n",
        "# Configuration du setup PyCaret avec la pipeline personnalisée\n",
        "clf = setup(data, target='species', session_id=42,\n",
        "            # C'est ici que ca se passe :\n",
        "            custom_pipeline=[('petal_ratio_transformer', petal_ratio_transformer)],\n",
        "\n",
        "            log_experiment=True,\n",
        "            experiment_name='custom_setup_iris')"
      ]
    },
    {
      "cell_type": "markdown",
      "id": "391f4e0b",
      "metadata": {
        "id": "391f4e0b"
      },
      "source": [
        "### 📚 Documentation et Aide\n",
        "\n",
        "N'hésitez pas à consulter la [documentation officielle de PyCaret](https://pycaret.readthedocs.io/en/latest/api/classification.html#module-pycaret.classification) pour une liste complète des paramètres disponibles et des exemples d'utilisation."
      ]
    },
    {
      "cell_type": "markdown",
      "id": "bb1e8632",
      "metadata": {
        "id": "bb1e8632"
      },
      "source": [
        "## 📈 Experiment Logging avec PyCaret\n",
        "\n",
        "PyCaret offre une fonctionnalité d'Experiment Logging qui vous permet de suivre, comparer et analyser différentes expérimentations. Cette fonctionnalité est particulièrement utile pour tester différentes configurations de préparation des données et voir lesquelles sont les plus efficaces.\n",
        "\n",
        "### 🚀 Mise en place de l'Experiment Logging\n",
        "\n",
        "Pour commencer avec l'Experiment Logging, vous devez initialiser une session de traçage. PyCaret supporte plusieurs outils de traçage, comme MLflow, WandB, et neptune.ai. Dans cet exemple, nous allons utiliser MLflow qui est evidemment integré avec Pycaret."
      ]
    },
    {
      "cell_type": "markdown",
      "id": "8f0af69c",
      "metadata": {
        "id": "8f0af69c"
      },
      "source": [
        "Initialisation de la session de traçage\n",
        "Vous pouvez initialiser une session de traçage avec la fonction setup en utilisant le paramètre log_experiment."
      ]
    },
    {
      "cell_type": "code",
      "execution_count": null,
      "id": "c1c4b173",
      "metadata": {
        "id": "c1c4b173"
      },
      "outputs": [],
      "source": [
        "from pycaret.classification import *\n",
        "\n",
        "# Initialisation de l'Experiment Logging avec MLflow\n",
        "clf = setup(data, target='species', session_id=42,\n",
        "            log_experiment=True,\n",
        "            log_plots=True,\n",
        "            experiment_name='iris_classification_experiment'\n",
        "            )\n"
      ]
    },
    {
      "cell_type": "markdown",
      "id": "JdHVf6-UuKxG",
      "metadata": {
        "id": "JdHVf6-UuKxG"
      },
      "source": [
        "### Deux solutions (à choisir une des deux) :\n",
        "1. Si vous êtes sur votre machine en local :"
      ]
    },
    {
      "cell_type": "code",
      "execution_count": null,
      "id": "5a116b2a",
      "metadata": {
        "id": "5a116b2a"
      },
      "outputs": [],
      "source": [
        "#Ouvrir l'interface graphique : http://127.0.0.1:5000/\n",
        "!mlflow ui"
      ]
    },
    {
      "cell_type": "markdown",
      "id": "ySs7mupUubuV",
      "metadata": {
        "id": "ySs7mupUubuV"
      },
      "source": [
        "2. Si vous êtes sur une machine en remote (Colab, Kaggle...)"
      ]
    },
    {
      "cell_type": "code",
      "execution_count": null,
      "id": "7jxF9mYVrcS9",
      "metadata": {
        "collapsed": true,
        "id": "7jxF9mYVrcS9"
      },
      "outputs": [],
      "source": [
        "!pip install mlflow --quiet\n",
        "!npm install -g localtunnel"
      ]
    },
    {
      "cell_type": "code",
      "execution_count": null,
      "id": "x2EWMaQjrogp",
      "metadata": {
        "id": "x2EWMaQjrogp"
      },
      "outputs": [],
      "source": [
        "# Démarrer le serveur MLflow\n",
        "get_ipython().system_raw(\"mlflow ui --port 5000 &\")\n",
        "\n",
        "print(\"Le mot de passe est : \")\n",
        "!wget -q -O - https://loca.lt/mytunnelpassword\n"
      ]
    },
    {
      "cell_type": "code",
      "execution_count": null,
      "id": "iMCLlpSAtmuP",
      "metadata": {
        "id": "iMCLlpSAtmuP"
      },
      "outputs": [],
      "source": [
        "# Créer un tunnel avec LocalTunnel\n",
        "!npx localtunnel --port 5000"
      ]
    },
    {
      "cell_type": "markdown",
      "id": "RspXpZFHu2o9",
      "metadata": {
        "id": "RspXpZFHu2o9"
      },
      "source": [
        "Pour continuer, il faut arrêter le serveur, mais il est tout à fait possible de le relancer à n'importe quel moment pour récupérer l'interface."
      ]
    },
    {
      "cell_type": "markdown",
      "id": "zTM2_lwe5bLR",
      "metadata": {
        "id": "zTM2_lwe5bLR"
      },
      "source": [
        "> **🚀 Défi Logistique: Pourquoi utiliser l’Experiment Logging avec PyCaret ? Décrivez brièvement le processus d'initialisation d'une session de traçage avec MLflow.**"
      ]
    },
    {
      "cell_type": "markdown",
      "id": "f98dd435",
      "metadata": {
        "id": "f98dd435"
      },
      "source": [
        "## 🔍 Comparaison des modèles avec PyCaret\n",
        "\n",
        "La fonction `compare_models` est l'une des fonctionnalités les plus puissantes de PyCaret. Elle entraîne et évalue la performance de tous les estimateurs disponibles dans la bibliothèque de modèles en utilisant la validation croisée. Le résultat de cette fonction est une grille de scores avec des scores moyens validés par la méthode de validation croisée.\n",
        "\n",
        "### Utilisation de `compare_models`\n",
        "\n",
        "Voici comment utiliser cette fonction pour comparer les modèles de base :"
      ]
    },
    {
      "cell_type": "code",
      "execution_count": null,
      "id": "65a19df4",
      "metadata": {
        "id": "65a19df4"
      },
      "outputs": [],
      "source": [
        "# Comparer les modèles de base\n",
        "best = compare_models()"
      ]
    },
    {
      "cell_type": "markdown",
      "id": "6f92871e",
      "metadata": {
        "id": "6f92871e"
      },
      "source": [
        "Par défaut, compare_models utilise tous les estimateurs de la bibliothèque de modèles (tous sauf les modèles avec Turbo=False). Pour voir tous les modèles disponibles, vous pouvez utiliser la fonction models() :"
      ]
    },
    {
      "cell_type": "code",
      "execution_count": null,
      "id": "f9787d48",
      "metadata": {
        "id": "f9787d48"
      },
      "outputs": [],
      "source": [
        "# Vérifier les modèles disponibles\n",
        "models()"
      ]
    },
    {
      "cell_type": "markdown",
      "id": "8450f0b7",
      "metadata": {
        "id": "8450f0b7"
      },
      "source": [
        "Vous pouvez utiliser les paramètres include et exclude dans compare_models pour entraîner uniquement certains modèles ou exclure des modèles spécifiques en passant les identifiants de modèles dans le paramètre exclude."
      ]
    },
    {
      "cell_type": "code",
      "execution_count": null,
      "id": "55af7803",
      "metadata": {
        "id": "55af7803"
      },
      "outputs": [],
      "source": [
        "# Comparer uniquement les modèles d'arbres de décision\n",
        "compare_tree_models = compare_models(include=['dt', 'rf', 'et', 'gbc', 'xgboost', 'lightgbm', 'catboost'])\n",
        "\n",
        "# Sélectionner les 3 meilleurs modèles en fonction du rappel (Recall)\n",
        "best_recall_models_top3 = compare_models(sort='Recall', n_select=3)"
      ]
    },
    {
      "cell_type": "markdown",
      "id": "9f118dcd",
      "metadata": {
        "id": "9f118dcd"
      },
      "source": [
        "Paramètres supplémentaires de compare_models\n",
        "Voici quelques autres paramètres que vous pourriez trouver très utiles dans compare_models :\n",
        "\n",
        "- fold : Nombre de plis pour la validation croisée.\n",
        "- cross_validation : Utiliser ou non la validation croisée.\n",
        "- budget_time : Temps alloué pour la comparaison des modèles.\n",
        "- errors : Gérer les erreurs pendant la comparaison des modèles.\n",
        "- probability_threshold : Seuil de probabilité pour la classification.\n",
        "- parallel : Exécuter les comparaisons en parallèle."
      ]
    },
    {
      "cell_type": "markdown",
      "id": "xLTjc_ZR4y8K",
      "metadata": {
        "id": "xLTjc_ZR4y8K"
      },
      "source": [
        "> 📊 **Question : Comment utilisez-vous la fonction compare_models() dans PyCaret ? Quels sont les avantages de cette fonction lors du choix du modèle ?**"
      ]
    },
    {
      "cell_type": "markdown",
      "id": "2d282c39",
      "metadata": {
        "id": "2d282c39"
      },
      "source": [
        "## 📈 Analyse des modèles avec PyCaret\n",
        "\n",
        "Après avoir identifié le meilleur modèle avec `compare_models`, il est essentiel d'analyser sa performance en profondeur. PyCaret offre des fonctions puissantes pour visualiser et évaluer les modèles.\n",
        "\n",
        "### Visualisation de la matrice de confusion\n",
        "\n",
        "La fonction `plot_model` permet de visualiser divers aspects du modèle, y compris la matrice de confusion, qui est un outil essentiel pour comprendre la performance d'un modèle de classification.\n"
      ]
    },
    {
      "cell_type": "code",
      "execution_count": null,
      "id": "61e67926",
      "metadata": {
        "id": "61e67926"
      },
      "outputs": [],
      "source": [
        "# Visualiser la matrice de confusion du meilleur modèle\n",
        "plot_model(best, plot='confusion_matrix')"
      ]
    },
    {
      "cell_type": "markdown",
      "id": "b9b762b0",
      "metadata": {
        "id": "b9b762b0"
      },
      "source": [
        "### Évaluation complète du modèle\n",
        "La fonction evaluate_model fournit une interface interactive pour évaluer le modèle sur plusieurs métriques et visualisations."
      ]
    },
    {
      "cell_type": "code",
      "execution_count": null,
      "id": "36219d9d",
      "metadata": {
        "id": "36219d9d"
      },
      "outputs": [],
      "source": [
        "# Évaluer le meilleur modèle\n",
        "evaluate_model(best)"
      ]
    },
    {
      "cell_type": "markdown",
      "id": "1df99dee",
      "metadata": {
        "id": "1df99dee"
      },
      "source": [
        "## 🚀 Création de modèles simples avec PyCaret\n",
        "\n",
        "En plus de comparer plusieurs modèles, PyCaret permet également de créer et d'entraîner des modèles individuels avec la fonction `create_model`. Cette fonction est utile lorsque vous souhaitez entraîner un modèle spécifique sans comparer une multitude d'options.\n",
        "\n",
        "### Utilisation de `create_model`\n",
        "\n",
        "Voici comment utiliser cette fonction pour créer un modèle simple :\n"
      ]
    },
    {
      "cell_type": "code",
      "execution_count": null,
      "id": "ee8fca2f",
      "metadata": {
        "id": "ee8fca2f"
      },
      "outputs": [],
      "source": [
        "# Créer un modèle de régression logistique\n",
        "lr = create_model('lr')"
      ]
    },
    {
      "cell_type": "markdown",
      "id": "FmC5jDz75Hu2",
      "metadata": {
        "id": "FmC5jDz75Hu2"
      },
      "source": [
        "> **🧠 Mise en Pratique: Expliquez comment vous créeriez un modèle spécifique (par exemple, un Random Forest) avec PyCaret et comment vous l'évalueriez ? Quelle métrique utiliseriez-vous pour une classification multiclass et pourquoi ?**"
      ]
    },
    {
      "cell_type": "markdown",
      "id": "508864a2",
      "metadata": {
        "id": "508864a2"
      },
      "source": [
        "## 🔧 Tunage des hyperparamètres avec PyCaret\n",
        "\n",
        "La fonction `tune_model` permet d'ajuster les hyperparamètres d'un modèle. Le résultat de cette fonction est une grille de scores avec des scores validés par validation croisée pour chaque pli. Le meilleur modèle est sélectionné en fonction de la métrique définie dans le paramètre `optimize`.\n",
        "\n",
        "### Utilisation de `tune_model`\n",
        "\n",
        "Voici comment utiliser cette fonction pour ajuster les hyperparamètres d'un modèle :\n"
      ]
    },
    {
      "cell_type": "code",
      "execution_count": null,
      "id": "d56b0f0a",
      "metadata": {
        "id": "d56b0f0a"
      },
      "outputs": [],
      "source": [
        "# Créer un modèle de forêt aléatoire\n",
        "rf = create_model('rf')\n",
        "\n",
        "# Tunage des hyperparamètres du modèle de forêt aléatoire\n",
        "tuned_rf = tune_model(rf, optimize='F1')\n",
        "# tuned_rf = tune_model(rf, optimize='F1', search_library='optuna') # Celui la utilise Optuna et est donc plus long"
      ]
    },
    {
      "cell_type": "markdown",
      "id": "09269e9d",
      "metadata": {
        "id": "09269e9d"
      },
      "source": [
        "### Personnalisation du grid de recherche\n",
        "Vous pouvez personnaliser le grid de recherche en passant vos propres paramètres. Voici un exemple avec un grid personnalisé :"
      ]
    },
    {
      "cell_type": "code",
      "execution_count": null,
      "id": "be2426ca",
      "metadata": {
        "id": "be2426ca"
      },
      "outputs": [],
      "source": [
        "# Grid de recherche personnalisé\n",
        "custom_grid = {\n",
        "    'n_estimators': [100, 200, 300],\n",
        "    'max_depth': [10, 20, 30],\n",
        "    'min_samples_split': [2, 5, 10]\n",
        "}\n",
        "\n",
        "# Tunage des hyperparamètres avec un grid personnalisé et Optuna\n",
        "tuned_rf = tune_model(rf, custom_grid=custom_grid, optimize='F1')"
      ]
    },
    {
      "cell_type": "markdown",
      "id": "0a10e24a",
      "metadata": {
        "id": "0a10e24a"
      },
      "source": [
        "## 🛠️ Modèles d'ensemble, de mélange et d'empilement avec PyCaret\n",
        "\n",
        "PyCaret permet non seulement de créer et de comparer des modèles individuels, mais aussi d'utiliser des techniques avancées comme les modèles d'ensemble, de mélange et d'empilement pour améliorer les performances des modèles.\n",
        "\n",
        "### Modèles d'ensemble\n",
        "\n",
        "Les modèles d'ensemble combinent les prédictions de plusieurs modèles de base pour améliorer les performances globales. PyCaret simplifie l'utilisation des modèles d'ensemble avec la fonction `ensemble_model`.\n"
      ]
    },
    {
      "cell_type": "markdown",
      "id": "c3b3c876",
      "metadata": {
        "id": "c3b3c876"
      },
      "source": [
        "### Bagging et Boosting\n",
        "![Bagging et Boosting](https://github.com/Codect24/TP_Alternant_2024_Pycaret/blob/main/image.png?raw=1)"
      ]
    },
    {
      "cell_type": "code",
      "execution_count": null,
      "id": "641d59d1",
      "metadata": {
        "id": "641d59d1"
      },
      "outputs": [],
      "source": [
        "# Créer un modèle d'ensemble en bagging en utilisant le modèle de forêt aléatoire\n",
        "ensemble_rf = ensemble_model(rf, method='Bagging')"
      ]
    },
    {
      "cell_type": "code",
      "execution_count": null,
      "id": "17998a52",
      "metadata": {
        "id": "17998a52"
      },
      "outputs": [],
      "source": [
        "ensemble_rf = ensemble_model(rf, method='Boosting')"
      ]
    },
    {
      "cell_type": "markdown",
      "id": "ac352c01",
      "metadata": {
        "id": "ac352c01"
      },
      "source": [
        "### Modèles de mélange\n",
        "Le mélange de modèles combine plusieurs modèles pour obtenir une prédiction moyenne ou pondérée. PyCaret offre une fonction pratique blend_models pour cela."
      ]
    },
    {
      "cell_type": "code",
      "execution_count": null,
      "id": "b5e91f53",
      "metadata": {
        "id": "b5e91f53"
      },
      "outputs": [],
      "source": [
        "qda = create_model('qda')\n",
        "\n",
        "nb = create_model('nb')"
      ]
    },
    {
      "cell_type": "code",
      "execution_count": null,
      "id": "c750845c",
      "metadata": {
        "id": "c750845c"
      },
      "outputs": [],
      "source": [
        "# Mélanger plusieurs modèles\n",
        "blended = blend_models(estimator_list=[rf, qda, nb])"
      ]
    },
    {
      "cell_type": "markdown",
      "id": "02e117d8",
      "metadata": {
        "id": "02e117d8"
      },
      "source": [
        "### Modèles d'empilement\n",
        "L'empilement de modèles consiste à utiliser les prédictions de plusieurs modèles comme entrées pour un modèle final (métamodèle). PyCaret permet de créer facilement des modèles d'empilement avec la fonction stack_models."
      ]
    },
    {
      "cell_type": "code",
      "execution_count": null,
      "id": "1226cd0d",
      "metadata": {
        "id": "1226cd0d"
      },
      "outputs": [],
      "source": [
        "# Empiler plusieurs modèles\n",
        "stacked = stack_models(estimator_list=[rf, qda, nb])"
      ]
    },
    {
      "cell_type": "markdown",
      "id": "d1b0cd64",
      "metadata": {
        "id": "d1b0cd64"
      },
      "source": [
        "## 🔮 Prédiction avec PyCaret\n",
        "\n",
        "Après avoir entraîné et sélectionné le meilleur modèle, vous pouvez utiliser ce modèle pour faire des prédictions sur de nouvelles données. PyCaret fournit la fonction `predict_model` pour prédire sur des ensembles de données de test ou de nouvelles données.\n",
        "\n",
        "### Prédiction sur l'ensemble de test\n",
        "\n",
        "Vous pouvez prédire sur l'ensemble de test retenu (holdout) pour évaluer la performance du modèle sur des données non vues."
      ]
    },
    {
      "cell_type": "code",
      "execution_count": null,
      "id": "cfadaf79",
      "metadata": {
        "id": "cfadaf79"
      },
      "outputs": [],
      "source": [
        "# Prédire sur l'ensemble de test retenu\n",
        "holdout_pred = predict_model(best)"
      ]
    },
    {
      "cell_type": "markdown",
      "id": "e3c2f30c",
      "metadata": {
        "id": "e3c2f30c"
      },
      "source": [
        "### Prédiction sur de nouvelles données\n",
        "Pour prédire sur de nouvelles données, vous pouvez passer un DataFrame à la fonction predict_model."
      ]
    },
    {
      "cell_type": "code",
      "execution_count": null,
      "id": "6b76694d",
      "metadata": {
        "id": "6b76694d"
      },
      "outputs": [],
      "source": [
        "# Supposons que new_data soit un DataFrame contenant les nouvelles données\n",
        "new_data = data.sample(10).drop(columns=['species'])\n",
        "# Prédire sur de nouvelles données\n",
        "predictions = predict_model(best, data=new_data)\n",
        "predictions.head()"
      ]
    },
    {
      "cell_type": "markdown",
      "id": "ec45d6b1",
      "metadata": {
        "id": "ec45d6b1"
      },
      "source": [
        "## 💾 Exportation et sauvegarde des modèles avec PyCaret\n",
        "\n",
        "Après avoir entraîné et évalué votre modèle, il est souvent nécessaire de le sauvegarder pour une utilisation ultérieure ou de le déployer en production. PyCaret offre plusieurs options pour exporter et sauvegarder vos modèles.\n",
        "\n",
        "### Finaliser le modèle\n",
        "\n",
        "La fonction `finalize_model` entraîne le modèle sur l'intégralité des données disponibles."
      ]
    },
    {
      "cell_type": "code",
      "execution_count": null,
      "id": "4e501b85",
      "metadata": {
        "id": "4e501b85"
      },
      "outputs": [],
      "source": [
        "# Finaliser le meilleur modèle\n",
        "final_best = finalize_model(best)"
      ]
    },
    {
      "cell_type": "markdown",
      "id": "58f94d4a",
      "metadata": {
        "id": "58f94d4a"
      },
      "source": [
        "### Charger le modèle depuis MLflow\n",
        "Si vous avez utilisé MLflow pour suivre vos expérimentations, vous pouvez facilement charger un modèle sauvegardé depuis MLflow."
      ]
    },
    {
      "cell_type": "code",
      "execution_count": null,
      "id": "8c508dc2",
      "metadata": {
        "id": "8c508dc2"
      },
      "outputs": [],
      "source": [
        "pipeline = load_model('C:/Users/tomle/OneDrive/Documents/TP_Alternant_2024_Pycaret/mlruns/635673703510918278/328bf339661840d091e68c8c44ef9a73/artifacts/model/model')"
      ]
    },
    {
      "cell_type": "markdown",
      "id": "3f51e04d",
      "metadata": {
        "id": "3f51e04d"
      },
      "source": [
        "### Sauvegarde manuelle du modèle\n",
        "Vous pouvez sauvegarder un modèle manuellement sur le disque pour une utilisation ultérieure."
      ]
    },
    {
      "cell_type": "code",
      "execution_count": null,
      "id": "e9b22563",
      "metadata": {
        "id": "e9b22563"
      },
      "outputs": [],
      "source": [
        "save_model(final_best, model_name='my_best_model')"
      ]
    },
    {
      "cell_type": "markdown",
      "id": "896c6335",
      "metadata": {
        "id": "896c6335"
      },
      "source": [
        "### Créer une application avec PyCaret\n",
        "PyCaret permet de créer une application interactive pour déployer et utiliser le modèle."
      ]
    },
    {
      "cell_type": "code",
      "execution_count": null,
      "id": "debf1ad2",
      "metadata": {
        "id": "debf1ad2"
      },
      "outputs": [],
      "source": [
        "create_app(final_best)"
      ]
    },
    {
      "cell_type": "markdown",
      "id": "e6e5c6f6",
      "metadata": {
        "id": "e6e5c6f6"
      },
      "source": [
        "### Créer une API avec PyCaret\n",
        "Vous pouvez également créer une API pour votre modèle avec PyCaret."
      ]
    },
    {
      "cell_type": "code",
      "execution_count": null,
      "id": "9e706918",
      "metadata": {
        "id": "9e706918"
      },
      "outputs": [],
      "source": [
        "create_api(final_best, api_name='my_best_model_api')"
      ]
    },
    {
      "cell_type": "markdown",
      "id": "cf53a420",
      "metadata": {
        "id": "cf53a420"
      },
      "source": [
        "### Convertir le modèle en Java\n",
        "PyCaret permet également de convertir un modèle en code Java."
      ]
    },
    {
      "cell_type": "code",
      "execution_count": null,
      "id": "7159a1f5",
      "metadata": {
        "id": "7159a1f5"
      },
      "outputs": [],
      "source": [
        "convert_model(rf, 'java') # Ca marche surtout pour les arbres"
      ]
    },
    {
      "cell_type": "markdown",
      "id": "7e4e937d",
      "metadata": {
        "id": "7e4e937d"
      },
      "source": [
        "## 🎉 Félicitations, vous êtes prêt à vous amuser avec PyCaret !\n",
        "\n",
        "Vous avez maintenant tout ce qu'il faut pour explorer, créer, tuner, et déployer des modèles de machine learning avec PyCaret.\n",
        "\n",
        "### Un petit rappel des étapes que nous avons parcourues :\n",
        "\n",
        "- 📊 Préparation des données\n",
        "- 🚀 Création de modèles simples\n",
        "- 🔧 Tunage des hyperparamètres\n",
        "- 🛠️ Utilisation des modèles d'ensemble, de mélange et d'empilement\n",
        "- 🔮 Prédiction sur de nouvelles données\n",
        "- 💾 Exportation et sauvegarde des modèles\n",
        "\n",
        "Et maintenant, il est temps de vous amuser vraiment ! 🌟\n"
      ]
    },
    {
      "cell_type": "markdown",
      "id": "_txdO0-kvjtt",
      "metadata": {
        "id": "_txdO0-kvjtt"
      },
      "source": [
        "# Partie II : Analyse des crédits allemands avec PyCaret 🏦"
      ]
    },
    {
      "cell_type": "markdown",
      "id": "UpRi74XNxdf7",
      "metadata": {
        "id": "UpRi74XNxdf7"
      },
      "source": [
        "Bienvenue à cette deuxième partie de notre TP ! 🎉 Maintenant que vous avez découvert les bases de PyCaret à travers la documentation et les exemples, il est temps de mettre tout cela en pratique avec le célèbre dataset German Credit Data. Ce dataset contient des informations sur des prêts accordés en Allemagne, et votre objectif est d'analyser ces données pour prédire si un client est un bon ou un mauvais payeur.\n",
        "\n",
        "Dans cette session, vous allez voir comment, en quelques lignes de code seulement, on peut obtenir des résultats impressionnants ! 🚀\n",
        "\n",
        "## Votre Mission\n",
        "Vous avez toutes les cartes en main pour obtenir des résultats exceptionnels. Voici quelques points clés à garder en tête pendant que vous travaillez :\n",
        "\n",
        "- Préparation des Données : Une bonne préparation des données est essentielle. Pensez à la façon dont vous allez traiter les valeurs manquantes, encoder les variables catégorielles et normaliser les données.\n",
        "\n",
        "- Choix des Modèles : PyCaret offre une large gamme de modèles. Quels modèles allez-vous choisir pour obtenir une bonne performance sur ce dataset ? Vous pouvez aussi les confronter tous, si vous avez le temps. 😎\n",
        "\n",
        "- Hyperparamétrage : L'optimisation des hyperparamètres peut grandement améliorer les performances d'un modèle. Comment pouvez-vous automatiser cette étape avec PyCaret ? Allez-vous tester des ensembles ?\n",
        "\n",
        "- Évaluation des Performances : Quels métriques allez-vous utiliser pour évaluer les performances de vos modèles ?\n",
        "\n",
        "- Interprétabilité : Je vous donne rendez-vous cet après-midi pour le TP de Manon. ⌛\n",
        "\n",
        "À vous de jouer ! Utilisez ce que vous avez appris et laissez votre créativité guider vos pas. Vous avez tout ce qu'il faut pour obtenir des résultats exceptionnels. Prêt à vous immerger dans l'analyse de données et la création de modèles ? Allons-y ! 😃"
      ]
    },
    {
      "cell_type": "markdown",
      "id": "p0KUD1YG0R0F",
      "metadata": {
        "id": "p0KUD1YG0R0F"
      },
      "source": [
        "---\n",
        "\n",
        "Merci d'avoir suivi ce tutoriel. N'hésitez pas à consulter la [documentation officielle de PyCaret](https://pycaret.readthedocs.io/en/latest/api/classification.html#module-pycaret.classification) pour plus de détails et des exemples supplémentaires.\n",
        "\n",
        "# 🐸"
      ]
    }
  ],
  "metadata": {
    "colab": {
      "provenance": []
    },
    "kernelspec": {
      "display_name": "clean",
      "language": "python",
      "name": "python3"
    },
    "language_info": {
      "codemirror_mode": {
        "name": "ipython",
        "version": 3
      },
      "file_extension": ".py",
      "mimetype": "text/x-python",
      "name": "python",
      "nbconvert_exporter": "python",
      "pygments_lexer": "ipython3",
      "version": "3.10.13"
    }
  },
  "nbformat": 4,
  "nbformat_minor": 5
}
